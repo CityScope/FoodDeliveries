{
 "cells": [
  {
   "cell_type": "markdown",
   "id": "ddf2411a",
   "metadata": {},
   "source": [
    "# AVERAGE SPEED OF CARS IN CAMBRIDGE, MA"
   ]
  },
  {
   "cell_type": "code",
   "execution_count": 1,
   "id": "756a1296",
   "metadata": {},
   "outputs": [],
   "source": [
    "import pandas as pd\n",
    "import numpy as np\n",
    "import json\n",
    "import matplotlib.pyplot as plt\n",
    "from pathlib import Path"
   ]
  },
  {
   "cell_type": "code",
   "execution_count": 2,
   "id": "de3e7dfd",
   "metadata": {},
   "outputs": [],
   "source": [
    "# Import BigQuery Data\n",
    "filepath_Replica_BQ = \".././02 Data/Replica/Cambridge_Trips/\"\n",
    "replica_bq_filtered_df = pd.read_json(filepath_Replica_BQ + 'bq-results-20221103-135012-1667484827797.json', lines=True)"
   ]
  },
  {
   "cell_type": "markdown",
   "id": "7bdf46c0",
   "metadata": {},
   "source": [
    "### Average speed of ALL car trips in Cambridge "
   ]
  },
  {
   "cell_type": "code",
   "execution_count": 3,
   "id": "89fe4697",
   "metadata": {},
   "outputs": [],
   "source": [
    "# Select the interesting information of the dataset\n",
    "car_trips_df = replica_bq_filtered_df[['mode','duration_minutes','distance_miles','travel_purpose']]"
   ]
  },
  {
   "cell_type": "code",
   "execution_count": 4,
   "id": "d22a6bb4",
   "metadata": {},
   "outputs": [],
   "source": [
    "# Filter car trips\n",
    "car_list = ['PRIVATE_AUTO','CARPOOL','ON_DEMAND_AUTO']\n",
    "car_trips_df = car_trips_df[car_trips_df['mode'].isin(car_list)]\n",
    "car_trips_df = car_trips_df[(car_trips_df['duration_minutes']==0)==False].reset_index().drop('index',axis=1)"
   ]
  },
  {
   "cell_type": "code",
   "execution_count": 5,
   "id": "2ac52ba4",
   "metadata": {},
   "outputs": [],
   "source": [
    "# Calculate speed in miles per hour and km per hour\n",
    "car_trips_df['speed [mph]'] = car_trips_df['distance_miles']/(car_trips_df['duration_minutes']/60)\n",
    "car_trips_df['speed [kmh]'] = car_trips_df['speed [mph]']*1.60934"
   ]
  },
  {
   "cell_type": "code",
   "execution_count": 8,
   "id": "fd79acaf",
   "metadata": {},
   "outputs": [],
   "source": [
    "# Calculate average weighted speed\n",
    "speed_ag = 0\n",
    "for i in range (len(car_trips_df)):\n",
    "    speed_ag = speed_ag + car_trips_df.at[i,'speed [kmh]']*car_trips_df.at[i,'distance_miles']\n",
    "average_speed = speed_ag/car_trips_df['distance_miles'].sum()\n",
    "average_speed_miles = average_speed*0.621371"
   ]
  },
  {
   "cell_type": "code",
   "execution_count": 9,
   "id": "beb94cde",
   "metadata": {},
   "outputs": [
    {
     "name": "stdout",
     "output_type": "stream",
     "text": [
      "The average speed of cars in Cambridge is:  36.4752638051999 km/h\n",
      "The average speed of cars in Cambridge is:  22.66467114590087 mi/h\n"
     ]
    }
   ],
   "source": [
    "print('The average speed of cars in Cambridge is: ',average_speed,'km/h')\n",
    "print('The average speed of cars in Cambridge is: ',average_speed_miles,'mi/h')"
   ]
  },
  {
   "cell_type": "markdown",
   "id": "010bf427",
   "metadata": {},
   "source": [
    "### Average speed of EAT trips in Cambridge "
   ]
  },
  {
   "cell_type": "code",
   "execution_count": 10,
   "id": "f693adf0",
   "metadata": {},
   "outputs": [],
   "source": [
    "# Select the interesting information of the dataset\n",
    "car_trips_df = replica_bq_filtered_df[['mode','duration_minutes','distance_miles','travel_purpose']]"
   ]
  },
  {
   "cell_type": "code",
   "execution_count": 11,
   "id": "f37b848e",
   "metadata": {},
   "outputs": [],
   "source": [
    "# Filter car trips to EAT\n",
    "car_list = ['PRIVATE_AUTO','CARPOOL','ON_DEMAND_AUTO']\n",
    "car_trips_df = car_trips_df[car_trips_df['mode'].isin(car_list)]\n",
    "purpose_list = ['EAT']\n",
    "car_trips_df = car_trips_df[car_trips_df['travel_purpose'].isin(purpose_list)]\n",
    "car_trips_df = car_trips_df[(car_trips_df['duration_minutes']==0)==False].reset_index().drop('index',axis=1)"
   ]
  },
  {
   "cell_type": "code",
   "execution_count": 12,
   "id": "e2036819",
   "metadata": {},
   "outputs": [],
   "source": [
    "# Calculate speed in miles per hour and km per hour\n",
    "car_trips_df['speed [mph]'] = car_trips_df['distance_miles']/(car_trips_df['duration_minutes']/60)\n",
    "car_trips_df['speed [kmh]'] = car_trips_df['speed [mph]']*1.60934"
   ]
  },
  {
   "cell_type": "code",
   "execution_count": 13,
   "id": "516410e3",
   "metadata": {},
   "outputs": [],
   "source": [
    "# Calculate average weighted speed\n",
    "speed_ag = 0\n",
    "for i in range (len(car_trips_df)):\n",
    "    speed_ag = speed_ag + car_trips_df.at[i,'speed [kmh]']*car_trips_df.at[i,'distance_miles']\n",
    "average_speed = speed_ag/car_trips_df['distance_miles'].sum()\n",
    "average_speed_miles = average_speed*0.621371"
   ]
  },
  {
   "cell_type": "code",
   "execution_count": 14,
   "id": "0232f334",
   "metadata": {
    "scrolled": true
   },
   "outputs": [
    {
     "name": "stdout",
     "output_type": "stream",
     "text": [
      "The average speed of cars to EAT in Cambridge is:  34.46731445014577 km/h\n",
      "The average speed of cars to EAT in Cambridge is:  21.41698964720153 mi/h\n"
     ]
    }
   ],
   "source": [
    "print('The average speed of cars to EAT in Cambridge is: ', average_speed,'km/h')\n",
    "print('The average speed of cars to EAT in Cambridge is: ',average_speed_miles,'mi/h')"
   ]
  },
  {
   "cell_type": "markdown",
   "id": "0bd09007",
   "metadata": {},
   "source": [
    "### Average speed of ALL trips in Kendall"
   ]
  },
  {
   "cell_type": "code",
   "execution_count": 32,
   "id": "1fa4ff53",
   "metadata": {},
   "outputs": [],
   "source": [
    "kendall_list = ['250173523002', '250173523001', '250173524001', '250173524002', '250173531022', '250173521021']\n",
    "kendall_car_trips = replica_bq_filtered_df[replica_bq_filtered_df['origin_bgrp'].isin(kendall_list)]\n",
    "kendall_car_trips = kendall_car_trips[kendall_car_trips['destination_bgrp'].isin(kendall_list)]"
   ]
  },
  {
   "cell_type": "code",
   "execution_count": 33,
   "id": "dea87bc2",
   "metadata": {},
   "outputs": [],
   "source": [
    "# Select the interesting information of the dataset\n",
    "kendall_car_trips_df = kendall_car_trips[['mode','duration_minutes','distance_miles','travel_purpose','start_local_hour']]"
   ]
  },
  {
   "cell_type": "code",
   "execution_count": 41,
   "id": "37e82a8a",
   "metadata": {},
   "outputs": [],
   "source": [
    "# Filter car trips to EAT\n",
    "car_list = ['PRIVATE_AUTO','CARPOOL','ON_DEMAND_AUTO']\n",
    "kendall_car_trips_df = kendall_car_trips_df[kendall_car_trips_df['mode'].isin(car_list)].reset_index().drop('index',axis=1)\n",
    "time_list = [7,8,9,10,]\n",
    "kendall_car_trips_df = kendall_car_trips_df[(kendall_car_trips_df['duration_minutes']==0)==False].reset_index().drop('index',axis=1)"
   ]
  },
  {
   "cell_type": "code",
   "execution_count": 42,
   "id": "e398b03a",
   "metadata": {},
   "outputs": [],
   "source": [
    "# Calculate speed in miles per hour and km per hour\n",
    "kendall_car_trips_df['speed [mph]'] = kendall_car_trips_df['distance_miles']/(kendall_car_trips_df['duration_minutes']/60)\n",
    "kendall_car_trips_df['speed [kmh]'] = kendall_car_trips_df['speed [mph]']*1.60934"
   ]
  },
  {
   "cell_type": "code",
   "execution_count": 43,
   "id": "eedd8d25",
   "metadata": {},
   "outputs": [],
   "source": [
    "# Calculate average weighted speed\n",
    "speed_ag = 0\n",
    "for i in range (len(kendall_car_trips_df)):\n",
    "    speed_ag = speed_ag + kendall_car_trips_df.at[i,'speed [kmh]']*kendall_car_trips_df.at[i,'distance_miles']\n",
    "average_speed = speed_ag/kendall_car_trips_df['distance_miles'].sum()\n",
    "average_speed_miles = average_speed*0.621371"
   ]
  },
  {
   "cell_type": "code",
   "execution_count": 44,
   "id": "699d1b86",
   "metadata": {
    "scrolled": true
   },
   "outputs": [
    {
     "name": "stdout",
     "output_type": "stream",
     "text": [
      "The average speed of cars in Kendall is:  42.63678127720719 km/h\n",
      "The average speed of cars  in Kendall is:  26.49325941899951 mi/h\n"
     ]
    }
   ],
   "source": [
    "print('The average speed of cars in Kendall is: ', average_speed,'km/h')\n",
    "print('The average speed of cars  in Kendall is: ',average_speed_miles,'mi/h')"
   ]
  },
  {
   "cell_type": "markdown",
   "id": "7548fa30",
   "metadata": {},
   "source": [
    "### Average speed of EAT trips in Kendall"
   ]
  },
  {
   "cell_type": "code",
   "execution_count": 26,
   "id": "8bf17667",
   "metadata": {},
   "outputs": [],
   "source": [
    "kendall_list = ['250173523002', '250173523001', '250173524001', '250173524002', '250173531022', '250173521021']\n",
    "kendall_car_trips = replica_bq_filtered_df[replica_bq_filtered_df['origin_bgrp'].isin(kendall_list)]\n",
    "kendall_car_trips = kendall_car_trips[kendall_car_trips['destination_bgrp'].isin(kendall_list)]"
   ]
  },
  {
   "cell_type": "code",
   "execution_count": 27,
   "id": "930f4eb0",
   "metadata": {},
   "outputs": [],
   "source": [
    "# Select the interesting information of the dataset\n",
    "kendall_car_trips_df = kendall_car_trips[['mode','duration_minutes','distance_miles','travel_purpose','start_local_hour']]"
   ]
  },
  {
   "cell_type": "code",
   "execution_count": 28,
   "id": "a6a4ad67",
   "metadata": {},
   "outputs": [],
   "source": [
    "# Filter car trips to EAT\n",
    "car_list = ['PRIVATE_AUTO','CARPOOL','ON_DEMAND_AUTO']\n",
    "kendall_car_trips_df = kendall_car_trips_df[kendall_car_trips_df['mode'].isin(car_list)]\n",
    "purpose_list = ['EAT']\n",
    "kendall_car_trips_df = kendall_car_trips_df[kendall_car_trips_df['travel_purpose'].isin(purpose_list)]\n",
    "time_list = [7,8,9,10,]\n",
    "kendall_car_trips_df = kendall_car_trips_df[(kendall_car_trips_df['duration_minutes']==0)==False].reset_index().drop('index',axis=1)"
   ]
  },
  {
   "cell_type": "code",
   "execution_count": 29,
   "id": "04156ffb",
   "metadata": {},
   "outputs": [],
   "source": [
    "# Calculate speed in miles per hour and km per hour\n",
    "kendall_car_trips_df['speed [mph]'] = kendall_car_trips_df['distance_miles']/(kendall_car_trips_df['duration_minutes']/60)\n",
    "kendall_car_trips_df['speed [kmh]'] = kendall_car_trips_df['speed [mph]']*1.60934"
   ]
  },
  {
   "cell_type": "code",
   "execution_count": 30,
   "id": "dc73c4cf",
   "metadata": {},
   "outputs": [],
   "source": [
    "# Calculate average weighted speed\n",
    "speed_ag = 0\n",
    "for i in range (len(kendall_car_trips_df)):\n",
    "    speed_ag = speed_ag + kendall_car_trips_df.at[i,'speed [kmh]']*kendall_car_trips_df.at[i,'distance_miles']\n",
    "average_speed = speed_ag/kendall_car_trips_df['distance_miles'].sum()\n",
    "average_speed_miles = average_speed*0.621371"
   ]
  },
  {
   "cell_type": "code",
   "execution_count": 31,
   "id": "cf3e71f8",
   "metadata": {
    "scrolled": true
   },
   "outputs": [
    {
     "name": "stdout",
     "output_type": "stream",
     "text": [
      "The average speed of cars to EAT in Kendall is:  43.20870272307455 km/h\n",
      "The average speed of cars to EAT in Kendall is:  26.84863481973956 mi/h\n"
     ]
    }
   ],
   "source": [
    "print('The average speed of cars to EAT in Kendall is: ', average_speed,'km/h')\n",
    "print('The average speed of cars to EAT in Kendall is: ',average_speed_miles,'mi/h')"
   ]
  }
 ],
 "metadata": {
  "kernelspec": {
   "display_name": "new_mobility",
   "language": "python",
   "name": "new_mobility"
  },
  "language_info": {
   "codemirror_mode": {
    "name": "ipython",
    "version": 3
   },
   "file_extension": ".py",
   "mimetype": "text/x-python",
   "name": "python",
   "nbconvert_exporter": "python",
   "pygments_lexer": "ipython3",
   "version": "3.6.10"
  }
 },
 "nbformat": 4,
 "nbformat_minor": 5
}
