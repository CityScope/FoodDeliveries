{
 "cells": [
  {
   "cell_type": "markdown",
   "id": "4eb2218e",
   "metadata": {},
   "source": [
    "# All trips starting and ending in Cambridge and Somerville (BigQuery)"
   ]
  },
  {
   "cell_type": "code",
   "execution_count": 9,
   "id": "756a1296",
   "metadata": {},
   "outputs": [],
   "source": [
    "# Import libraries\n",
    "import pandas as pd\n",
    "import numpy as np\n",
    "import json\n",
    "import matplotlib.pyplot as plt\n",
    "from pathlib import Path"
   ]
  },
  {
   "cell_type": "code",
   "execution_count": 10,
   "id": "938eae08",
   "metadata": {},
   "outputs": [],
   "source": [
    "# Import BigQuery data\n",
    "filepath_Replica_BQ = \".././02 Data/Replica/Trips/BigQuery/Cambridge_Somerville/\"\n",
    "replica_bq_df = pd.read_json(filepath_Replica_BQ + 'bq-results-20230203-194032-1675453267095.json', lines=True)"
   ]
  },
  {
   "cell_type": "code",
   "execution_count": 11,
   "id": "31bdac2b",
   "metadata": {},
   "outputs": [],
   "source": [
    "# Drop undesired columns\n",
    "drop_list = ['mode','tour_type','timezone']\n",
    "replica_bq_df = replica_bq_df.drop(drop_list,axis=1)"
   ]
  },
  {
   "cell_type": "code",
   "execution_count": 13,
   "id": "a6532687",
   "metadata": {},
   "outputs": [
    {
     "data": {
      "text/plain": [
       "237547"
      ]
     },
     "execution_count": 13,
     "metadata": {},
     "output_type": "execute_result"
    }
   ],
   "source": [
    "# Number of trips in the Data Frame\n",
    "len(replica_bq_df)"
   ]
  },
  {
   "cell_type": "markdown",
   "id": "f8508d5e",
   "metadata": {},
   "source": [
    "# Trips for Tangible Table"
   ]
  },
  {
   "cell_type": "code",
   "execution_count": 14,
   "id": "539630e1",
   "metadata": {},
   "outputs": [],
   "source": [
    "# Filter the trips that start and end in the desired area\n",
    "lat_min = 42.35217552009351 \n",
    "lat_max = 42.38008690523708 \n",
    "lon_min = -71.12714994786728    \n",
    "lon_max = -71.08267810377765 \n",
    "\n",
    "df_trips = replica_bq_df[\n",
    "    replica_bq_df[\"origin_bgrp_lng\"].between(lon_min, lon_max) & \n",
    "    replica_bq_df[\"origin_bgrp_lat\"].between(lat_min, lat_max) & \n",
    "    replica_bq_df[\"destination_bgrp_lng\"].between(lon_min, lon_max) & \n",
    "    replica_bq_df[\"destination_bgrp_lat\"].between(lat_min, lat_max)]\n",
    "\n",
    "df_trips = df_trips.reset_index().drop('index',axis=1)"
   ]
  },
  {
   "cell_type": "code",
   "execution_count": 15,
   "id": "6f3a2465",
   "metadata": {},
   "outputs": [
    {
     "data": {
      "text/plain": [
       "66702"
      ]
     },
     "execution_count": 15,
     "metadata": {},
     "output_type": "execute_result"
    }
   ],
   "source": [
    "# Number of trips in the desired area\n",
    "len(df_trips)"
   ]
  },
  {
   "cell_type": "code",
   "execution_count": 16,
   "id": "e2def68c",
   "metadata": {
    "scrolled": true
   },
   "outputs": [],
   "source": [
    "# Save the results\n",
    "path = Path('.././02 Data/Replica/Trips/BigQuery/Tangible_Table/replica_tangible_table_bq_df.csv')\n",
    "df_trips.to_csv(path,index=False)"
   ]
  }
 ],
 "metadata": {
  "kernelspec": {
   "display_name": "new_mobility",
   "language": "python",
   "name": "new_mobility"
  },
  "language_info": {
   "codemirror_mode": {
    "name": "ipython",
    "version": 3
   },
   "file_extension": ".py",
   "mimetype": "text/x-python",
   "name": "python",
   "nbconvert_exporter": "python",
   "pygments_lexer": "ipython3",
   "version": "3.6.10"
  }
 },
 "nbformat": 4,
 "nbformat_minor": 5
}
