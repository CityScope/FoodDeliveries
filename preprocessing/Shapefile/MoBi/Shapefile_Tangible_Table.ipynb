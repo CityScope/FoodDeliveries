{
 "cells": [
  {
   "cell_type": "markdown",
   "id": "c9499ca3",
   "metadata": {},
   "source": [
    "# Import libraries"
   ]
  },
  {
   "cell_type": "code",
   "execution_count": 12,
   "id": "b0f3d01b",
   "metadata": {},
   "outputs": [],
   "source": [
    "import pandas as pd\n",
    "import numpy as np\n",
    "import json\n",
    "import matplotlib.pyplot as plt\n",
    "from pathlib import Path\n",
    "import geopandas as gpd\n",
    "from scipy import spatial"
   ]
  },
  {
   "cell_type": "markdown",
   "id": "798b07f4",
   "metadata": {},
   "source": [
    "# Buildings"
   ]
  },
  {
   "cell_type": "code",
   "execution_count": 13,
   "id": "0ff88d19",
   "metadata": {},
   "outputs": [
    {
     "name": "stderr",
     "output_type": "stream",
     "text": [
      "C:\\Users\\a9048\\anaconda3\\envs\\new_mobility\\lib\\site-packages\\ipykernel_launcher.py:4: UserWarning: Geometry is in a geographic CRS. Results from 'centroid' are likely incorrect. Use 'GeoSeries.to_crs()' to re-project geometries to a projected CRS before this operation.\n",
      "\n",
      "  after removing the cwd from sys.path.\n"
     ]
    },
    {
     "data": {
      "text/html": [
       "<div>\n",
       "<style scoped>\n",
       "    .dataframe tbody tr th:only-of-type {\n",
       "        vertical-align: middle;\n",
       "    }\n",
       "\n",
       "    .dataframe tbody tr th {\n",
       "        vertical-align: top;\n",
       "    }\n",
       "\n",
       "    .dataframe thead th {\n",
       "        text-align: right;\n",
       "    }\n",
       "</style>\n",
       "<table border=\"1\" class=\"dataframe\">\n",
       "  <thead>\n",
       "    <tr style=\"text-align: right;\">\n",
       "      <th></th>\n",
       "      <th>Name</th>\n",
       "      <th>Shape_Leng</th>\n",
       "      <th>Shape_Area</th>\n",
       "      <th>lon_POI</th>\n",
       "      <th>lat_POI</th>\n",
       "      <th>usage</th>\n",
       "      <th>geometry</th>\n",
       "    </tr>\n",
       "  </thead>\n",
       "  <tbody>\n",
       "    <tr>\n",
       "      <th>0</th>\n",
       "      <td>78 MT AUBURN ST</td>\n",
       "      <td>267.016007</td>\n",
       "      <td>4271.457031</td>\n",
       "      <td>-71.119131</td>\n",
       "      <td>42.371969</td>\n",
       "      <td>E</td>\n",
       "      <td>POLYGON ((-71.11898 42.37203, -71.11911 42.371...</td>\n",
       "    </tr>\n",
       "    <tr>\n",
       "      <th>1</th>\n",
       "      <td>99 INMAN ST</td>\n",
       "      <td>265.399199</td>\n",
       "      <td>3430.315186</td>\n",
       "      <td>-71.101911</td>\n",
       "      <td>42.371936</td>\n",
       "      <td>R</td>\n",
       "      <td>POLYGON ((-71.10172 42.37192, -71.10177 42.371...</td>\n",
       "    </tr>\n",
       "    <tr>\n",
       "      <th>2</th>\n",
       "      <td>65 JFK ST</td>\n",
       "      <td>503.046475</td>\n",
       "      <td>15895.593506</td>\n",
       "      <td>-71.121133</td>\n",
       "      <td>42.371860</td>\n",
       "      <td>None</td>\n",
       "      <td>POLYGON ((-71.12083 42.37190, -71.12108 42.371...</td>\n",
       "    </tr>\n",
       "    <tr>\n",
       "      <th>3</th>\n",
       "      <td>3-5 BOW ST</td>\n",
       "      <td>344.373206</td>\n",
       "      <td>4781.273926</td>\n",
       "      <td>-71.115942</td>\n",
       "      <td>42.372002</td>\n",
       "      <td>R</td>\n",
       "      <td>POLYGON ((-71.11574 42.37193, -71.11587 42.371...</td>\n",
       "    </tr>\n",
       "    <tr>\n",
       "      <th>4</th>\n",
       "      <td>686 CAMBRIDGE ST</td>\n",
       "      <td>210.972496</td>\n",
       "      <td>2766.545166</td>\n",
       "      <td>-71.088048</td>\n",
       "      <td>42.371909</td>\n",
       "      <td>R</td>\n",
       "      <td>POLYGON ((-71.08793 42.37197, -71.08797 42.371...</td>\n",
       "    </tr>\n",
       "  </tbody>\n",
       "</table>\n",
       "</div>"
      ],
      "text/plain": [
       "               Name  Shape_Leng    Shape_Area    lon_POI    lat_POI usage  \\\n",
       "0   78 MT AUBURN ST  267.016007   4271.457031 -71.119131  42.371969     E   \n",
       "1       99 INMAN ST  265.399199   3430.315186 -71.101911  42.371936     R   \n",
       "2         65 JFK ST  503.046475  15895.593506 -71.121133  42.371860  None   \n",
       "3        3-5 BOW ST  344.373206   4781.273926 -71.115942  42.372002     R   \n",
       "4  686 CAMBRIDGE ST  210.972496   2766.545166 -71.088048  42.371909     R   \n",
       "\n",
       "                                            geometry  \n",
       "0  POLYGON ((-71.11898 42.37203, -71.11911 42.371...  \n",
       "1  POLYGON ((-71.10172 42.37192, -71.10177 42.371...  \n",
       "2  POLYGON ((-71.12083 42.37190, -71.12108 42.371...  \n",
       "3  POLYGON ((-71.11574 42.37193, -71.11587 42.371...  \n",
       "4  POLYGON ((-71.08793 42.37197, -71.08797 42.371...  "
      ]
     },
     "execution_count": 13,
     "metadata": {},
     "output_type": "execute_result"
    }
   ],
   "source": [
    "# Import Cambridge Shapefile Data \n",
    "shapefile_path='.././02 Data/Shapefile/Tangible-Table/'\n",
    "buildings = gpd.read_file(shapefile_path+'Buildings.shp').to_crs(crs='EPSG:4326')\n",
    "centroids =buildings.geometry.centroid\n",
    "buildings['lon_POI']=[c.x for c in centroids]\n",
    "buildings['lat_POI']=[c.y for c in centroids]\n",
    "buildings.head()"
   ]
  },
  {
   "cell_type": "markdown",
   "id": "5947acf4",
   "metadata": {},
   "source": [
    "# DATAFRAMES FOR INPUT DATABASE"
   ]
  },
  {
   "cell_type": "markdown",
   "id": "3412382e",
   "metadata": {},
   "source": [
    "## RESIDENTIAL "
   ]
  },
  {
   "cell_type": "code",
   "execution_count": 15,
   "id": "c7f0c245",
   "metadata": {},
   "outputs": [
    {
     "data": {
      "text/html": [
       "<div>\n",
       "<style scoped>\n",
       "    .dataframe tbody tr th:only-of-type {\n",
       "        vertical-align: middle;\n",
       "    }\n",
       "\n",
       "    .dataframe tbody tr th {\n",
       "        vertical-align: top;\n",
       "    }\n",
       "\n",
       "    .dataframe thead th {\n",
       "        text-align: right;\n",
       "    }\n",
       "</style>\n",
       "<table border=\"1\" class=\"dataframe\">\n",
       "  <thead>\n",
       "    <tr style=\"text-align: right;\">\n",
       "      <th></th>\n",
       "      <th>Name</th>\n",
       "      <th>Shape_Leng</th>\n",
       "      <th>Shape_Area</th>\n",
       "      <th>lon_POI</th>\n",
       "      <th>lat_POI</th>\n",
       "      <th>usage</th>\n",
       "      <th>geometry</th>\n",
       "    </tr>\n",
       "  </thead>\n",
       "  <tbody>\n",
       "    <tr>\n",
       "      <th>0</th>\n",
       "      <td>99 INMAN ST</td>\n",
       "      <td>265.399199</td>\n",
       "      <td>3430.315186</td>\n",
       "      <td>-71.101911</td>\n",
       "      <td>42.371936</td>\n",
       "      <td>R</td>\n",
       "      <td>POLYGON ((-71.10172 42.37192, -71.10177 42.371...</td>\n",
       "    </tr>\n",
       "    <tr>\n",
       "      <th>1</th>\n",
       "      <td>3-5 BOW ST</td>\n",
       "      <td>344.373206</td>\n",
       "      <td>4781.273926</td>\n",
       "      <td>-71.115942</td>\n",
       "      <td>42.372002</td>\n",
       "      <td>R</td>\n",
       "      <td>POLYGON ((-71.11574 42.37193, -71.11587 42.371...</td>\n",
       "    </tr>\n",
       "    <tr>\n",
       "      <th>2</th>\n",
       "      <td>686 CAMBRIDGE ST</td>\n",
       "      <td>210.972496</td>\n",
       "      <td>2766.545166</td>\n",
       "      <td>-71.088048</td>\n",
       "      <td>42.371909</td>\n",
       "      <td>R</td>\n",
       "      <td>POLYGON ((-71.08793 42.37197, -71.08797 42.371...</td>\n",
       "    </tr>\n",
       "    <tr>\n",
       "      <th>3</th>\n",
       "      <td>84 WILLOW ST</td>\n",
       "      <td>184.306219</td>\n",
       "      <td>1587.431396</td>\n",
       "      <td>-71.092388</td>\n",
       "      <td>42.371933</td>\n",
       "      <td>R</td>\n",
       "      <td>POLYGON ((-71.09226 42.37193, -71.09230 42.371...</td>\n",
       "    </tr>\n",
       "    <tr>\n",
       "      <th>4</th>\n",
       "      <td>26 SEVENTH ST</td>\n",
       "      <td>127.863382</td>\n",
       "      <td>799.135986</td>\n",
       "      <td>-71.085346</td>\n",
       "      <td>42.371941</td>\n",
       "      <td>R</td>\n",
       "      <td>POLYGON ((-71.08526 42.37195, -71.08526 42.371...</td>\n",
       "    </tr>\n",
       "  </tbody>\n",
       "</table>\n",
       "</div>"
      ],
      "text/plain": [
       "               Name  Shape_Leng   Shape_Area    lon_POI    lat_POI usage  \\\n",
       "0       99 INMAN ST  265.399199  3430.315186 -71.101911  42.371936     R   \n",
       "1        3-5 BOW ST  344.373206  4781.273926 -71.115942  42.372002     R   \n",
       "2  686 CAMBRIDGE ST  210.972496  2766.545166 -71.088048  42.371909     R   \n",
       "3      84 WILLOW ST  184.306219  1587.431396 -71.092388  42.371933     R   \n",
       "4     26 SEVENTH ST  127.863382   799.135986 -71.085346  42.371941     R   \n",
       "\n",
       "                                            geometry  \n",
       "0  POLYGON ((-71.10172 42.37192, -71.10177 42.371...  \n",
       "1  POLYGON ((-71.11574 42.37193, -71.11587 42.371...  \n",
       "2  POLYGON ((-71.08793 42.37197, -71.08797 42.371...  \n",
       "3  POLYGON ((-71.09226 42.37193, -71.09230 42.371...  \n",
       "4  POLYGON ((-71.08526 42.37195, -71.08526 42.371...  "
      ]
     },
     "execution_count": 15,
     "metadata": {},
     "output_type": "execute_result"
    }
   ],
   "source": [
    "# Generate de dataframe with the RESIDENTIAL locations\n",
    "residential_df=buildings[buildings['usage']=='R']\n",
    "residential_df=residential_df.reset_index().drop('index',axis=1)\n",
    "residential_df.head()"
   ]
  },
  {
   "cell_type": "code",
   "execution_count": 16,
   "id": "682f23ab",
   "metadata": {},
   "outputs": [],
   "source": [
    "# Save the results of RESIDENTIAL locations\n",
    "residential_path = Path('.././02 Data/Shapefile/Tangible-Table/tangibletable_residentialbuildings.csv')\n",
    "residential_df.to_csv(residential_path,index=False)"
   ]
  },
  {
   "cell_type": "markdown",
   "id": "efaf1b2a",
   "metadata": {},
   "source": [
    "## PARK "
   ]
  },
  {
   "cell_type": "code",
   "execution_count": 17,
   "id": "995e849f",
   "metadata": {},
   "outputs": [
    {
     "data": {
      "text/html": [
       "<div>\n",
       "<style scoped>\n",
       "    .dataframe tbody tr th:only-of-type {\n",
       "        vertical-align: middle;\n",
       "    }\n",
       "\n",
       "    .dataframe tbody tr th {\n",
       "        vertical-align: top;\n",
       "    }\n",
       "\n",
       "    .dataframe thead th {\n",
       "        text-align: right;\n",
       "    }\n",
       "</style>\n",
       "<table border=\"1\" class=\"dataframe\">\n",
       "  <thead>\n",
       "    <tr style=\"text-align: right;\">\n",
       "      <th></th>\n",
       "      <th>Name</th>\n",
       "      <th>Shape_Leng</th>\n",
       "      <th>Shape_Area</th>\n",
       "      <th>lon_POI</th>\n",
       "      <th>lat_POI</th>\n",
       "      <th>usage</th>\n",
       "      <th>geometry</th>\n",
       "    </tr>\n",
       "  </thead>\n",
       "  <tbody>\n",
       "    <tr>\n",
       "      <th>0</th>\n",
       "      <td>1407 CAMBRIDGE ST</td>\n",
       "      <td>327.221841</td>\n",
       "      <td>6039.153564</td>\n",
       "      <td>-71.101489</td>\n",
       "      <td>42.373993</td>\n",
       "      <td>P</td>\n",
       "      <td>POLYGON ((-71.10168 42.37393, -71.10165 42.374...</td>\n",
       "    </tr>\n",
       "    <tr>\n",
       "      <th>1</th>\n",
       "      <td>971 MEMORIAL DR</td>\n",
       "      <td>3007.317450</td>\n",
       "      <td>220918.869873</td>\n",
       "      <td>-71.123102</td>\n",
       "      <td>42.370917</td>\n",
       "      <td>P</td>\n",
       "      <td>POLYGON ((-71.12202 42.37222, -71.12273 42.371...</td>\n",
       "    </tr>\n",
       "    <tr>\n",
       "      <th>2</th>\n",
       "      <td>65 SIDNEY ST</td>\n",
       "      <td>1205.729659</td>\n",
       "      <td>54051.001465</td>\n",
       "      <td>-71.101582</td>\n",
       "      <td>42.361506</td>\n",
       "      <td>P</td>\n",
       "      <td>POLYGON ((-71.10194 42.36092, -71.10228 42.361...</td>\n",
       "    </tr>\n",
       "    <tr>\n",
       "      <th>3</th>\n",
       "      <td>83 WINTHROP ST</td>\n",
       "      <td>431.575002</td>\n",
       "      <td>10994.550293</td>\n",
       "      <td>-71.120560</td>\n",
       "      <td>42.372445</td>\n",
       "      <td>P</td>\n",
       "      <td>POLYGON ((-71.12082 42.37235, -71.12070 42.372...</td>\n",
       "    </tr>\n",
       "    <tr>\n",
       "      <th>4</th>\n",
       "      <td>1573 MASSACHUSETTS AVE</td>\n",
       "      <td>814.782673</td>\n",
       "      <td>12979.570557</td>\n",
       "      <td>-71.120372</td>\n",
       "      <td>42.378270</td>\n",
       "      <td>P</td>\n",
       "      <td>POLYGON ((-71.12034 42.37785, -71.12037 42.377...</td>\n",
       "    </tr>\n",
       "  </tbody>\n",
       "</table>\n",
       "</div>"
      ],
      "text/plain": [
       "                     Name   Shape_Leng     Shape_Area    lon_POI    lat_POI  \\\n",
       "0       1407 CAMBRIDGE ST   327.221841    6039.153564 -71.101489  42.373993   \n",
       "1         971 MEMORIAL DR  3007.317450  220918.869873 -71.123102  42.370917   \n",
       "2            65 SIDNEY ST  1205.729659   54051.001465 -71.101582  42.361506   \n",
       "3          83 WINTHROP ST   431.575002   10994.550293 -71.120560  42.372445   \n",
       "4  1573 MASSACHUSETTS AVE   814.782673   12979.570557 -71.120372  42.378270   \n",
       "\n",
       "  usage                                           geometry  \n",
       "0     P  POLYGON ((-71.10168 42.37393, -71.10165 42.374...  \n",
       "1     P  POLYGON ((-71.12202 42.37222, -71.12273 42.371...  \n",
       "2     P  POLYGON ((-71.10194 42.36092, -71.10228 42.361...  \n",
       "3     P  POLYGON ((-71.12082 42.37235, -71.12070 42.372...  \n",
       "4     P  POLYGON ((-71.12034 42.37785, -71.12037 42.377...  "
      ]
     },
     "execution_count": 17,
     "metadata": {},
     "output_type": "execute_result"
    }
   ],
   "source": [
    "# Generate de dataframe with the PARK locations\n",
    "park_df = buildings[buildings['usage']=='P']\n",
    "park_df=park_df.reset_index().drop('index',axis=1)\n",
    "park_df.head()"
   ]
  },
  {
   "cell_type": "code",
   "execution_count": 18,
   "id": "90f7f16e",
   "metadata": {},
   "outputs": [],
   "source": [
    "# Save the results of PARK locations\n",
    "park_path=Path('.././02 Data/Shapefile/Tangible-Table/tangibletable_parkbuildings.csv')\n",
    "park_df.to_csv(park_path,index=False)"
   ]
  },
  {
   "cell_type": "markdown",
   "id": "ee198cbf",
   "metadata": {},
   "source": [
    "# Boundary"
   ]
  },
  {
   "cell_type": "code",
   "execution_count": 3,
   "id": "84809433",
   "metadata": {},
   "outputs": [],
   "source": [
    "# Import the json file with the boundary coordinates\n",
    "boundary_json = gpd.read_file('.././02 Data/Shapefile/Tangible-Table/tangible_table_geometry.json')"
   ]
  },
  {
   "cell_type": "code",
   "execution_count": 5,
   "id": "ab58b174",
   "metadata": {},
   "outputs": [
    {
     "data": {
      "image/svg+xml": [
       "<svg xmlns=\"http://www.w3.org/2000/svg\" xmlns:xlink=\"http://www.w3.org/1999/xlink\" width=\"100.0\" height=\"100.0\" viewBox=\"-71.12934237602602 42.35038074039165 0.04845905195021771 0.03150094454728958\" preserveAspectRatio=\"xMinYMin meet\"><g transform=\"matrix(1,0,0,-1,0,84.73226242533059)\"><path fill-rule=\"evenodd\" fill=\"#66cc99\" stroke=\"#555555\" stroke-width=\"0.0009691810390043543\" opacity=\"0.6\" d=\"M -71.12714994786728,42.3800281587593 L -71.12754759632416,42.373448054491746 L -71.12412781959881,42.369100114445644 L -71.1199922756518,42.36904135637994 L -71.11728826614812,42.36710230938314 L -71.11665202861795,42.361167278460215 L -71.11736779583961,42.35746494553547 L -71.11498190510072,42.35387993912647 L -71.10488163430769,42.35217552009351 L -71.08293143951231,42.35899291889325 L -71.08267810377765,42.38008690523708 L -71.12714994786728,42.3800281587593 z\" /></g></svg>"
      ],
      "text/plain": [
       "<shapely.geometry.polygon.Polygon at 0x1de1bf7f550>"
      ]
     },
     "execution_count": 5,
     "metadata": {},
     "output_type": "execute_result"
    }
   ],
   "source": [
    "# Generate the boundary layer\n",
    "poly = boundary_json.loc[0,'geometry']\n",
    "poly"
   ]
  },
  {
   "cell_type": "code",
   "execution_count": 6,
   "id": "eb08bc17",
   "metadata": {},
   "outputs": [],
   "source": [
    "boundary_json.to_file('.././02 Data/Shapefile/Tangible-Table/tangibletable_boundary')"
   ]
  },
  {
   "cell_type": "markdown",
   "id": "44ef4380",
   "metadata": {},
   "source": [
    "# Roads"
   ]
  },
  {
   "cell_type": "code",
   "execution_count": 8,
   "id": "2b251805",
   "metadata": {},
   "outputs": [
    {
     "data": {
      "text/plain": [
       "'1.1.1'"
      ]
     },
     "execution_count": 8,
     "metadata": {},
     "output_type": "execute_result"
    }
   ],
   "source": [
    "import geopandas as gpd\n",
    "import osmnx as ox\n",
    "\n",
    "%matplotlib inline\n",
    "ox.__version__"
   ]
  },
  {
   "cell_type": "code",
   "execution_count": 9,
   "id": "ab908db7",
   "metadata": {},
   "outputs": [],
   "source": [
    "G = ox.graph_from_polygon(poly, network_type=\"drive\")"
   ]
  },
  {
   "cell_type": "code",
   "execution_count": 10,
   "id": "92bb4843",
   "metadata": {},
   "outputs": [
    {
     "name": "stderr",
     "output_type": "stream",
     "text": [
      "C:\\Users\\a9048\\anaconda3\\envs\\new_mobility\\lib\\site-packages\\osmnx\\io.py:108: UserWarning: Column names longer than 10 characters will be truncated when saved to ESRI Shapefile.\n",
      "  gdf_nodes.to_file(filepath_nodes, driver=\"ESRI Shapefile\", index=True, encoding=encoding)\n"
     ]
    }
   ],
   "source": [
    "G_proj = ox.project_graph(G)\n",
    "ox.save_graph_shapefile(G_proj, filepath=\".././02 Data/Shapefile/Tangible-Table/tangibletable_road\")"
   ]
  }
 ],
 "metadata": {
  "kernelspec": {
   "display_name": "new_mobility",
   "language": "python",
   "name": "new_mobility"
  },
  "language_info": {
   "codemirror_mode": {
    "name": "ipython",
    "version": 3
   },
   "file_extension": ".py",
   "mimetype": "text/x-python",
   "name": "python",
   "nbconvert_exporter": "python",
   "pygments_lexer": "ipython3",
   "version": "3.6.10"
  }
 },
 "nbformat": 4,
 "nbformat_minor": 5
}
