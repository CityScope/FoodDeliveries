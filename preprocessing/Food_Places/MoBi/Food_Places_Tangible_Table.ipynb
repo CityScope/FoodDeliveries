{
 "cells": [
  {
   "cell_type": "code",
   "execution_count": 34,
   "id": "9f93f879",
   "metadata": {},
   "outputs": [],
   "source": [
    "# Import libraries\n",
    "import pandas as pd\n",
    "import numpy as np\n",
    "import json\n",
    "import matplotlib.pyplot as plt\n",
    "from pathlib import Path\n",
    "import geopandas as gpd\n",
    "from scipy import spatial"
   ]
  },
  {
   "cell_type": "code",
   "execution_count": 35,
   "id": "fc0cc4c4",
   "metadata": {},
   "outputs": [],
   "source": [
    "# Import places data from SafeGraph\n",
    "filepath_safegraph_places = \".././02 Data/SafeGraph Data/Places/\"\n",
    "safegraph_places_df = pd.read_csv(filepath_safegraph_places + 'cambridge_somerville_places.csv')"
   ]
  },
  {
   "cell_type": "code",
   "execution_count": 36,
   "id": "fba10c3c",
   "metadata": {},
   "outputs": [],
   "source": [
    "# Import patterns data from SafeGraph\n",
    "filepath_safegraph_patterns = \".././02 Data/SafeGraph Data/Patterns/\"\n",
    "safegraph_patterns_df = pd.read_csv(filepath_safegraph_patterns + 'cambridge_somerville_patterns.csv')"
   ]
  },
  {
   "cell_type": "code",
   "execution_count": 37,
   "id": "8f4036a3",
   "metadata": {},
   "outputs": [],
   "source": [
    "# Keep the interesting columns of SafeGraph places and patterns dataframes\n",
    "places_df=safegraph_places_df[['placekey','latitude','longitude','top_category']]\n",
    "patterns_df = safegraph_patterns_df[['placekey']]"
   ]
  },
  {
   "cell_type": "code",
   "execution_count": 38,
   "id": "52106b78",
   "metadata": {},
   "outputs": [
    {
     "data": {
      "text/html": [
       "<div>\n",
       "<style scoped>\n",
       "    .dataframe tbody tr th:only-of-type {\n",
       "        vertical-align: middle;\n",
       "    }\n",
       "\n",
       "    .dataframe tbody tr th {\n",
       "        vertical-align: top;\n",
       "    }\n",
       "\n",
       "    .dataframe thead th {\n",
       "        text-align: right;\n",
       "    }\n",
       "</style>\n",
       "<table border=\"1\" class=\"dataframe\">\n",
       "  <thead>\n",
       "    <tr style=\"text-align: right;\">\n",
       "      <th></th>\n",
       "      <th>placekey</th>\n",
       "      <th>latitude</th>\n",
       "      <th>longitude</th>\n",
       "      <th>top_category</th>\n",
       "    </tr>\n",
       "  </thead>\n",
       "  <tbody>\n",
       "    <tr>\n",
       "      <th>0</th>\n",
       "      <td>232-222@62j-sk3-p9z</td>\n",
       "      <td>42.399298</td>\n",
       "      <td>-71.111383</td>\n",
       "      <td>Drinking Places (Alcoholic Beverages)</td>\n",
       "    </tr>\n",
       "    <tr>\n",
       "      <th>1</th>\n",
       "      <td>zzy-222@62j-sjv-85f</td>\n",
       "      <td>42.373312</td>\n",
       "      <td>-71.119151</td>\n",
       "      <td>Restaurants and Other Eating Places</td>\n",
       "    </tr>\n",
       "    <tr>\n",
       "      <th>2</th>\n",
       "      <td>zzw-224@62j-sj2-s5z</td>\n",
       "      <td>42.363572</td>\n",
       "      <td>-71.101336</td>\n",
       "      <td>Restaurants and Other Eating Places</td>\n",
       "    </tr>\n",
       "    <tr>\n",
       "      <th>3</th>\n",
       "      <td>22m-222@62j-sjv-bc5</td>\n",
       "      <td>42.373153</td>\n",
       "      <td>-71.120120</td>\n",
       "      <td>Museums, Historical Sites, and Similar Institu...</td>\n",
       "    </tr>\n",
       "    <tr>\n",
       "      <th>4</th>\n",
       "      <td>257-222@62j-sj2-m6k</td>\n",
       "      <td>42.371619</td>\n",
       "      <td>-71.099913</td>\n",
       "      <td>Automobile Dealers</td>\n",
       "    </tr>\n",
       "  </tbody>\n",
       "</table>\n",
       "</div>"
      ],
      "text/plain": [
       "              placekey   latitude  longitude  \\\n",
       "0  232-222@62j-sk3-p9z  42.399298 -71.111383   \n",
       "1  zzy-222@62j-sjv-85f  42.373312 -71.119151   \n",
       "2  zzw-224@62j-sj2-s5z  42.363572 -71.101336   \n",
       "3  22m-222@62j-sjv-bc5  42.373153 -71.120120   \n",
       "4  257-222@62j-sj2-m6k  42.371619 -71.099913   \n",
       "\n",
       "                                        top_category  \n",
       "0              Drinking Places (Alcoholic Beverages)  \n",
       "1                Restaurants and Other Eating Places  \n",
       "2                Restaurants and Other Eating Places  \n",
       "3  Museums, Historical Sites, and Similar Institu...  \n",
       "4                                 Automobile Dealers  "
      ]
     },
     "execution_count": 38,
     "metadata": {},
     "output_type": "execute_result"
    }
   ],
   "source": [
    "# Merge patterns with places by placekey and keep: placekey, lat, lon, top category\n",
    "merged_df=patterns_df.merge(places_df[['placekey','latitude','longitude', 'top_category']], how='left', left_on='placekey', right_on='placekey')\n",
    "merged_df.head()"
   ]
  },
  {
   "cell_type": "code",
   "execution_count": 39,
   "id": "0cf48f88",
   "metadata": {},
   "outputs": [
    {
     "data": {
      "text/html": [
       "<div>\n",
       "<style scoped>\n",
       "    .dataframe tbody tr th:only-of-type {\n",
       "        vertical-align: middle;\n",
       "    }\n",
       "\n",
       "    .dataframe tbody tr th {\n",
       "        vertical-align: top;\n",
       "    }\n",
       "\n",
       "    .dataframe thead th {\n",
       "        text-align: right;\n",
       "    }\n",
       "</style>\n",
       "<table border=\"1\" class=\"dataframe\">\n",
       "  <thead>\n",
       "    <tr style=\"text-align: right;\">\n",
       "      <th></th>\n",
       "      <th>placekey</th>\n",
       "      <th>latitude</th>\n",
       "      <th>longitude</th>\n",
       "      <th>top_category</th>\n",
       "    </tr>\n",
       "  </thead>\n",
       "  <tbody>\n",
       "    <tr>\n",
       "      <th>0</th>\n",
       "      <td>232-222@62j-sk3-p9z</td>\n",
       "      <td>42.399298</td>\n",
       "      <td>-71.111383</td>\n",
       "      <td>Drinking Places (Alcoholic Beverages)</td>\n",
       "    </tr>\n",
       "    <tr>\n",
       "      <th>1</th>\n",
       "      <td>zzy-222@62j-sjv-85f</td>\n",
       "      <td>42.373312</td>\n",
       "      <td>-71.119151</td>\n",
       "      <td>Restaurants and Other Eating Places</td>\n",
       "    </tr>\n",
       "    <tr>\n",
       "      <th>2</th>\n",
       "      <td>zzw-224@62j-sj2-s5z</td>\n",
       "      <td>42.363572</td>\n",
       "      <td>-71.101336</td>\n",
       "      <td>Restaurants and Other Eating Places</td>\n",
       "    </tr>\n",
       "    <tr>\n",
       "      <th>3</th>\n",
       "      <td>245-222@62j-sj3-9zz</td>\n",
       "      <td>42.379954</td>\n",
       "      <td>-71.094380</td>\n",
       "      <td>Drinking Places (Alcoholic Beverages)</td>\n",
       "    </tr>\n",
       "    <tr>\n",
       "      <th>4</th>\n",
       "      <td>22m-222@62j-sk3-2c5</td>\n",
       "      <td>42.384101</td>\n",
       "      <td>-71.119812</td>\n",
       "      <td>Restaurants and Other Eating Places</td>\n",
       "    </tr>\n",
       "  </tbody>\n",
       "</table>\n",
       "</div>"
      ],
      "text/plain": [
       "              placekey   latitude  longitude  \\\n",
       "0  232-222@62j-sk3-p9z  42.399298 -71.111383   \n",
       "1  zzy-222@62j-sjv-85f  42.373312 -71.119151   \n",
       "2  zzw-224@62j-sj2-s5z  42.363572 -71.101336   \n",
       "3  245-222@62j-sj3-9zz  42.379954 -71.094380   \n",
       "4  22m-222@62j-sk3-2c5  42.384101 -71.119812   \n",
       "\n",
       "                            top_category  \n",
       "0  Drinking Places (Alcoholic Beverages)  \n",
       "1    Restaurants and Other Eating Places  \n",
       "2    Restaurants and Other Eating Places  \n",
       "3  Drinking Places (Alcoholic Beverages)  \n",
       "4    Restaurants and Other Eating Places  "
      ]
     },
     "execution_count": 39,
     "metadata": {},
     "output_type": "execute_result"
    }
   ],
   "source": [
    "# Keep points of interest related to food\n",
    "topcategory_list =['Drinking Places (Alcoholic Beverages)', 'Restaurants and Other Eating Places', 'Specialty Food Services']\n",
    "filtered_df = merged_df[merged_df['top_category'].isin(topcategory_list)]\n",
    "filtered_df=filtered_df.reset_index().drop('index', axis =1)\n",
    "filtered_df.head()"
   ]
  },
  {
   "cell_type": "code",
   "execution_count": 40,
   "id": "05c4fd6b",
   "metadata": {},
   "outputs": [],
   "source": [
    "# Filter restaurants in the desired area\n",
    "lat_min = 42.35217552009351 \n",
    "lat_max = 42.38008690523708 \n",
    "lon_min = -71.12714994786728    \n",
    "lon_max = -71.08267810377765 \n",
    "\n",
    "restaurants_df = filtered_df[\n",
    "    filtered_df[\"longitude\"].between(lon_min, lon_max) & \n",
    "    filtered_df[\"latitude\"].between(lat_min, lat_max) ]\n",
    "\n",
    "restaurants_df = restaurants_df.reset_index().drop('index',axis=1)"
   ]
  },
  {
   "cell_type": "code",
   "execution_count": 41,
   "id": "e6ce4119",
   "metadata": {},
   "outputs": [],
   "source": [
    "# Save the results of restaurants in Cambridge\n",
    "restaurants_path=Path('./Input Database/restaurants_cambridge.csv')\n",
    "restaurants_df.to_csv(restaurants_path,index=False)"
   ]
  },
  {
   "cell_type": "code",
   "execution_count": 42,
   "id": "823fe18a",
   "metadata": {},
   "outputs": [],
   "source": [
    "# Save the results of restaurants in Cambridge\n",
    "restaurants_path = Path('./Input Database/restaurants_tangible_table.csv')\n",
    "restaurants_df.to_csv(restaurants_path,index=False)"
   ]
  }
 ],
 "metadata": {
  "kernelspec": {
   "display_name": "new_mobility",
   "language": "python",
   "name": "new_mobility"
  },
  "language_info": {
   "codemirror_mode": {
    "name": "ipython",
    "version": 3
   },
   "file_extension": ".py",
   "mimetype": "text/x-python",
   "name": "python",
   "nbconvert_exporter": "python",
   "pygments_lexer": "ipython3",
   "version": "3.6.10"
  }
 },
 "nbformat": 4,
 "nbformat_minor": 5
}
