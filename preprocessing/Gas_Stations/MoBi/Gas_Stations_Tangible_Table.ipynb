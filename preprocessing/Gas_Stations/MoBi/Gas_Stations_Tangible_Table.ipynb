{
 "cells": [
  {
   "cell_type": "markdown",
   "id": "90758028",
   "metadata": {},
   "source": [
    "# Import libraries"
   ]
  },
  {
   "cell_type": "code",
   "execution_count": 1,
   "id": "0939c545",
   "metadata": {},
   "outputs": [],
   "source": [
    "import pandas as pd\n",
    "import numpy as np\n",
    "import json\n",
    "import matplotlib.pyplot as plt\n",
    "from pathlib import Path\n",
    "import geopandas as gpd\n",
    "from scipy import spatial"
   ]
  },
  {
   "cell_type": "markdown",
   "id": "1860dd08",
   "metadata": {},
   "source": [
    "# Import OMS data"
   ]
  },
  {
   "cell_type": "code",
   "execution_count": 2,
   "id": "b3eac222",
   "metadata": {},
   "outputs": [],
   "source": [
    "# Import Open Street Map data\n",
    "filepath_osm_cambridge = \".././02 Data/OSM/Tangible Table/\"\n",
    "osm_amenities_df = pd.read_csv(filepath_osm_cambridge + 'tangibletableamenitypois_c.csv')"
   ]
  },
  {
   "cell_type": "code",
   "execution_count": 3,
   "id": "872744af",
   "metadata": {},
   "outputs": [
    {
     "data": {
      "text/html": [
       "<div>\n",
       "<style scoped>\n",
       "    .dataframe tbody tr th:only-of-type {\n",
       "        vertical-align: middle;\n",
       "    }\n",
       "\n",
       "    .dataframe tbody tr th {\n",
       "        vertical-align: top;\n",
       "    }\n",
       "\n",
       "    .dataframe thead th {\n",
       "        text-align: right;\n",
       "    }\n",
       "</style>\n",
       "<table border=\"1\" class=\"dataframe\">\n",
       "  <thead>\n",
       "    <tr style=\"text-align: right;\">\n",
       "      <th></th>\n",
       "      <th>id</th>\n",
       "      <th>amenity</th>\n",
       "      <th>name</th>\n",
       "      <th>lat</th>\n",
       "      <th>lon</th>\n",
       "      <th>capacity</th>\n",
       "    </tr>\n",
       "  </thead>\n",
       "  <tbody>\n",
       "    <tr>\n",
       "      <th>0</th>\n",
       "      <td>1708499129</td>\n",
       "      <td>fuel</td>\n",
       "      <td>Shell</td>\n",
       "      <td>42.372955</td>\n",
       "      <td>-71.093535</td>\n",
       "      <td>NaN</td>\n",
       "    </tr>\n",
       "    <tr>\n",
       "      <th>1</th>\n",
       "      <td>1915267811</td>\n",
       "      <td>fuel</td>\n",
       "      <td>Shell</td>\n",
       "      <td>42.358232</td>\n",
       "      <td>-71.126233</td>\n",
       "      <td>NaN</td>\n",
       "    </tr>\n",
       "    <tr>\n",
       "      <th>2</th>\n",
       "      <td>9806690295</td>\n",
       "      <td>fuel</td>\n",
       "      <td>NaN</td>\n",
       "      <td>42.369200</td>\n",
       "      <td>-71.110424</td>\n",
       "      <td>NaN</td>\n",
       "    </tr>\n",
       "  </tbody>\n",
       "</table>\n",
       "</div>"
      ],
      "text/plain": [
       "           id amenity   name        lat        lon  capacity\n",
       "0  1708499129    fuel  Shell  42.372955 -71.093535       NaN\n",
       "1  1915267811    fuel  Shell  42.358232 -71.126233       NaN\n",
       "2  9806690295    fuel    NaN  42.369200 -71.110424       NaN"
      ]
     },
     "execution_count": 3,
     "metadata": {},
     "output_type": "execute_result"
    }
   ],
   "source": [
    "# Filter gas stations\n",
    "osm_fuel_df=osm_amenities_df[osm_amenities_df['amenity']=='fuel'].reset_index().drop('index',axis=1)\n",
    "osm_fuel_df.head()"
   ]
  },
  {
   "cell_type": "code",
   "execution_count": 4,
   "id": "5498b406",
   "metadata": {},
   "outputs": [],
   "source": [
    "# Filter the gas station that does not correspond to the study area\n",
    "osm_fuel_df = osm_fuel_df[(osm_fuel_df['id']==1915267811) == False]\n",
    "osm_fuel_df = osm_fuel_df.reset_index().drop('index',axis=1)"
   ]
  },
  {
   "cell_type": "code",
   "execution_count": 5,
   "id": "9c4ac8f2",
   "metadata": {},
   "outputs": [],
   "source": [
    "# Save the results of gas stations\n",
    "fuel_path=Path('./Input Database/gasstations_tangibletable.csv')\n",
    "osm_fuel_df.to_csv(fuel_path,index=False)"
   ]
  }
 ],
 "metadata": {
  "kernelspec": {
   "display_name": "new_mobility",
   "language": "python",
   "name": "new_mobility"
  },
  "language_info": {
   "codemirror_mode": {
    "name": "ipython",
    "version": 3
   },
   "file_extension": ".py",
   "mimetype": "text/x-python",
   "name": "python",
   "nbconvert_exporter": "python",
   "pygments_lexer": "ipython3",
   "version": "3.6.10"
  }
 },
 "nbformat": 4,
 "nbformat_minor": 5
}
