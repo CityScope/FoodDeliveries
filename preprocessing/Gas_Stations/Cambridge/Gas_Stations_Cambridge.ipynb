{
 "cells": [
  {
   "cell_type": "code",
   "execution_count": 1,
   "id": "0939c545",
   "metadata": {},
   "outputs": [],
   "source": [
    "import pandas as pd\n",
    "import numpy as np\n",
    "import json\n",
    "import matplotlib.pyplot as plt\n",
    "from pathlib import Path\n",
    "import geopandas as gpd\n",
    "from scipy import spatial"
   ]
  },
  {
   "cell_type": "code",
   "execution_count": 2,
   "id": "b3eac222",
   "metadata": {},
   "outputs": [],
   "source": [
    "# Import CAMBRIDGE Open Street Map Data to be able to assign exact location to the origin of the trips: \n",
    "# Transportation Utilities, Civic Institutional Buildings\n",
    "filepath_osm_cambridge = \".././02 Data/OSM/Cambridge/\"\n",
    "osm_amenities_df = pd.read_csv(filepath_osm_cambridge + 'cambridgeamenitypois_c.csv')"
   ]
  },
  {
   "cell_type": "code",
   "execution_count": 3,
   "id": "872744af",
   "metadata": {},
   "outputs": [
    {
     "data": {
      "text/html": [
       "<div>\n",
       "<style scoped>\n",
       "    .dataframe tbody tr th:only-of-type {\n",
       "        vertical-align: middle;\n",
       "    }\n",
       "\n",
       "    .dataframe tbody tr th {\n",
       "        vertical-align: top;\n",
       "    }\n",
       "\n",
       "    .dataframe thead th {\n",
       "        text-align: right;\n",
       "    }\n",
       "</style>\n",
       "<table border=\"1\" class=\"dataframe\">\n",
       "  <thead>\n",
       "    <tr style=\"text-align: right;\">\n",
       "      <th></th>\n",
       "      <th>id</th>\n",
       "      <th>amenity</th>\n",
       "      <th>name</th>\n",
       "      <th>lat</th>\n",
       "      <th>lon</th>\n",
       "      <th>capacity</th>\n",
       "    </tr>\n",
       "  </thead>\n",
       "  <tbody>\n",
       "    <tr>\n",
       "      <th>0</th>\n",
       "      <td>345423100</td>\n",
       "      <td>fuel</td>\n",
       "      <td>Sunoco</td>\n",
       "      <td>42.390655</td>\n",
       "      <td>-71.090726</td>\n",
       "      <td>NaN</td>\n",
       "    </tr>\n",
       "    <tr>\n",
       "      <th>1</th>\n",
       "      <td>356119414</td>\n",
       "      <td>fuel</td>\n",
       "      <td>Mobil</td>\n",
       "      <td>42.400962</td>\n",
       "      <td>-71.135517</td>\n",
       "      <td>NaN</td>\n",
       "    </tr>\n",
       "    <tr>\n",
       "      <th>2</th>\n",
       "      <td>945798665</td>\n",
       "      <td>fuel</td>\n",
       "      <td>Gulf</td>\n",
       "      <td>42.385834</td>\n",
       "      <td>-71.113804</td>\n",
       "      <td>NaN</td>\n",
       "    </tr>\n",
       "    <tr>\n",
       "      <th>3</th>\n",
       "      <td>945798666</td>\n",
       "      <td>fuel</td>\n",
       "      <td>Cumberland Farms</td>\n",
       "      <td>42.385854</td>\n",
       "      <td>-71.113936</td>\n",
       "      <td>NaN</td>\n",
       "    </tr>\n",
       "    <tr>\n",
       "      <th>4</th>\n",
       "      <td>1107057571</td>\n",
       "      <td>fuel</td>\n",
       "      <td>Belmont Street Gas</td>\n",
       "      <td>42.375934</td>\n",
       "      <td>-71.158031</td>\n",
       "      <td>NaN</td>\n",
       "    </tr>\n",
       "  </tbody>\n",
       "</table>\n",
       "</div>"
      ],
      "text/plain": [
       "           id amenity                name        lat        lon  capacity\n",
       "0   345423100    fuel              Sunoco  42.390655 -71.090726       NaN\n",
       "1   356119414    fuel               Mobil  42.400962 -71.135517       NaN\n",
       "2   945798665    fuel                Gulf  42.385834 -71.113804       NaN\n",
       "3   945798666    fuel    Cumberland Farms  42.385854 -71.113936       NaN\n",
       "4  1107057571    fuel  Belmont Street Gas  42.375934 -71.158031       NaN"
      ]
     },
     "execution_count": 3,
     "metadata": {},
     "output_type": "execute_result"
    }
   ],
   "source": [
    "osm_fuel_df=osm_amenities_df[osm_amenities_df['amenity']=='fuel'].reset_index().drop('index',axis=1)\n",
    "osm_fuel_df.head()"
   ]
  },
  {
   "cell_type": "code",
   "execution_count": 4,
   "id": "4d112425",
   "metadata": {},
   "outputs": [
    {
     "data": {
      "text/plain": [
       "array([nan])"
      ]
     },
     "execution_count": 4,
     "metadata": {},
     "output_type": "execute_result"
    }
   ],
   "source": [
    "osm_fuel_df['capacity'].unique()"
   ]
  },
  {
   "cell_type": "code",
   "execution_count": 5,
   "id": "ff531fa1",
   "metadata": {},
   "outputs": [
    {
     "data": {
      "text/html": [
       "<div>\n",
       "<style scoped>\n",
       "    .dataframe tbody tr th:only-of-type {\n",
       "        vertical-align: middle;\n",
       "    }\n",
       "\n",
       "    .dataframe tbody tr th {\n",
       "        vertical-align: top;\n",
       "    }\n",
       "\n",
       "    .dataframe thead th {\n",
       "        text-align: right;\n",
       "    }\n",
       "</style>\n",
       "<table border=\"1\" class=\"dataframe\">\n",
       "  <thead>\n",
       "    <tr style=\"text-align: right;\">\n",
       "      <th></th>\n",
       "      <th>id</th>\n",
       "      <th>amenity</th>\n",
       "      <th>name</th>\n",
       "      <th>lat</th>\n",
       "      <th>lon</th>\n",
       "    </tr>\n",
       "  </thead>\n",
       "  <tbody>\n",
       "    <tr>\n",
       "      <th>0</th>\n",
       "      <td>1559532734</td>\n",
       "      <td>fuel</td>\n",
       "      <td>Freshpond Gas</td>\n",
       "      <td>42.386478</td>\n",
       "      <td>-71.140629</td>\n",
       "    </tr>\n",
       "    <tr>\n",
       "      <th>1</th>\n",
       "      <td>356119414</td>\n",
       "      <td>fuel</td>\n",
       "      <td>Mobil</td>\n",
       "      <td>42.400962</td>\n",
       "      <td>-71.135517</td>\n",
       "    </tr>\n",
       "    <tr>\n",
       "      <th>2</th>\n",
       "      <td>9307559577</td>\n",
       "      <td>fuel</td>\n",
       "      <td>Speedway</td>\n",
       "      <td>42.391233</td>\n",
       "      <td>-71.122369</td>\n",
       "    </tr>\n",
       "    <tr>\n",
       "      <th>3</th>\n",
       "      <td>945798666</td>\n",
       "      <td>fuel</td>\n",
       "      <td>Cumberland Farms</td>\n",
       "      <td>42.385854</td>\n",
       "      <td>-71.113936</td>\n",
       "    </tr>\n",
       "    <tr>\n",
       "      <th>4</th>\n",
       "      <td>945798665</td>\n",
       "      <td>fuel</td>\n",
       "      <td>Gulf</td>\n",
       "      <td>42.385834</td>\n",
       "      <td>-71.113804</td>\n",
       "    </tr>\n",
       "    <tr>\n",
       "      <th>5</th>\n",
       "      <td>9806690295</td>\n",
       "      <td>fuel</td>\n",
       "      <td>NaN</td>\n",
       "      <td>42.369200</td>\n",
       "      <td>-71.110424</td>\n",
       "    </tr>\n",
       "    <tr>\n",
       "      <th>6</th>\n",
       "      <td>1708499129</td>\n",
       "      <td>fuel</td>\n",
       "      <td>Shell</td>\n",
       "      <td>42.372955</td>\n",
       "      <td>-71.093535</td>\n",
       "    </tr>\n",
       "  </tbody>\n",
       "</table>\n",
       "</div>"
      ],
      "text/plain": [
       "           id amenity              name        lat        lon\n",
       "0  1559532734    fuel     Freshpond Gas  42.386478 -71.140629\n",
       "1   356119414    fuel             Mobil  42.400962 -71.135517\n",
       "2  9307559577    fuel          Speedway  42.391233 -71.122369\n",
       "3   945798666    fuel  Cumberland Farms  42.385854 -71.113936\n",
       "4   945798665    fuel              Gulf  42.385834 -71.113804\n",
       "5  9806690295    fuel               NaN  42.369200 -71.110424\n",
       "6  1708499129    fuel             Shell  42.372955 -71.093535"
      ]
     },
     "execution_count": 5,
     "metadata": {},
     "output_type": "execute_result"
    }
   ],
   "source": [
    "drop_list=[9307561244,345423100,2547125297,2377575147,1915267811,9301640141,9826872460,7021099092,1107057571]\n",
    "osm_fuel_df=osm_fuel_df[osm_fuel_df['id'].isin(drop_list)==False].sort_values(by=['lon']).reset_index().drop('index',axis=1)\n",
    "osm_fuel_df"
   ]
  },
  {
   "cell_type": "code",
   "execution_count": 9,
   "id": "8553b291",
   "metadata": {},
   "outputs": [
    {
     "data": {
      "text/plain": [
       "array([42.3864783, 42.4009625, 42.3912332, 42.3858538, 42.385834 ,\n",
       "       42.3692002, 42.3729551])"
      ]
     },
     "execution_count": 9,
     "metadata": {},
     "output_type": "execute_result"
    }
   ],
   "source": [
    "osm_fuel_df['lat'].unique()"
   ]
  },
  {
   "cell_type": "code",
   "execution_count": 28,
   "id": "9c4ac8f2",
   "metadata": {},
   "outputs": [],
   "source": [
    "# Save the results of gas stations\n",
    "fuel_path=Path('./Input Database/gasstations.csv')\n",
    "osm_fuel_df.to_csv(fuel_path,index=False)"
   ]
  }
 ],
 "metadata": {
  "kernelspec": {
   "display_name": "new_mobility",
   "language": "python",
   "name": "new_mobility"
  },
  "language_info": {
   "codemirror_mode": {
    "name": "ipython",
    "version": 3
   },
   "file_extension": ".py",
   "mimetype": "text/x-python",
   "name": "python",
   "nbconvert_exporter": "python",
   "pygments_lexer": "ipython3",
   "version": "3.6.10"
  }
 },
 "nbformat": 4,
 "nbformat_minor": 5
}
